{
 "cells": [
  {
   "cell_type": "code",
   "execution_count": 2,
   "id": "f6cb494b-044b-4892-84f3-c4ca2a5cfd1c",
   "metadata": {
    "tags": []
   },
   "outputs": [],
   "source": [
    "import os\n",
    "import sys\n",
    "import subprocess\n",
    "import numpy as np\n",
    "import pandas as pd\n",
    "from pathlib import Path"
   ]
  },
  {
   "cell_type": "code",
   "execution_count": 3,
   "id": "e81a0b68-af97-4662-9ac7-20dfd4fd91c4",
   "metadata": {
    "tags": []
   },
   "outputs": [],
   "source": [
    "# global variables\n",
    "base_dir = Path.cwd().parent\n",
    "seq_dir = base_dir+\"seqdata/\"\n",
    "data_dir = base_dir+\"data/\"\n",
    "soft_dir = base_dir+\"soft/\"\n",
    "outdir = base_dir+\"host_pathogen_cross_align_sim/\"\n",
    "if not os.path.exists(outdir):\n",
    "    os.makedirs(outdir)\n",
    "\n",
    "r1_fname = seq_dir+\"RNA/processed.Kristen/RDW9M8V1_R2_processed.fastq\"\n",
    "r2_fname = seq_dir+\"RNA/processed.Kristen/RDW9M8V1_R1_filtered.fastq.gz\"\n",
    "\n",
    "barcodes_fname = seq_dir+\"spatial_barcodes.only.txt\"\n",
    "\n",
    "mmul10_fasta_fname = data_dir+\"Macaca_mulatta.Mmul_10.dna.toplevel.fa\"\n",
    "mmul10_gff_fname = data_dir+\"Macaca_mulatta.Mmul_10.110.gtf\"\n",
    "mmul10_resfeq_gff_fname = data_dir+\"Mmul_10_genomic.gtf\"\n",
    "\n",
    "num_threads = 24"
   ]
  },
  {
   "cell_type": "code",
   "execution_count": 5,
   "id": "5ab10430-9f63-47c5-a9f6-53097d390c18",
   "metadata": {
    "tags": []
   },
   "outputs": [],
   "source": [
    "%load_ext autoreload\n",
    "%autoreload 1\n",
    "\n",
    "sys.path.insert(0, \"../scripts/genomic_scripts/\")\n",
    "%aimport definitions"
   ]
  },
  {
   "cell_type": "code",
   "execution_count": 12,
   "id": "ba2b2a69-7d3a-4a7a-96be-2eb14bc09fee",
   "metadata": {},
   "outputs": [
    {
     "name": "stdout",
     "output_type": "stream",
     "text": [
      "26\n"
     ]
    }
   ],
   "source": [
    "# simlulate expression from SIV239 and test mappability against the macaque genome\n",
    "\n",
    "# load SIV transcriptome\n",
    "siv_nt_fa = definitions.load_fasta_dict(outdir+\"csess.1.0.0.known.256trimmed.nt.fa\",False,True)\n",
    "print(len(siv_nt_fa))"
   ]
  },
  {
   "cell_type": "code",
   "execution_count": 16,
   "id": "a218131e-c60e-4e54-88c6-fd8695e560b2",
   "metadata": {
    "tags": []
   },
   "outputs": [],
   "source": [
    "read_len_min = 20\n",
    "read_len_max = 160\n",
    "read_len_step = 10\n",
    "\n",
    "for readlen in range(read_len_min,read_len_max,read_len_step):\n",
    "    with open(outdir+\"reads.\"+str(readlen)+\".fq\",\"w+\") as outFP:\n",
    "        for tx,fa in siv_nt_fa.items():\n",
    "            for i in range(len(fa) - readlen + 1):\n",
    "                substr = fa[i:i + readlen]\n",
    "                outFP.write(\"@\"+tx+\".\"+str(i)+\".\"+str(readlen)+\"\\n\")\n",
    "                outFP.write(substr+\"\\n\")\n",
    "                outFP.write(\"+\\n\")\n",
    "                outFP.write(\"F\"*len(substr)+\"\\n\")"
   ]
  },
  {
   "cell_type": "code",
   "execution_count": 19,
   "id": "201e6578-f408-422b-a43c-093a94a60620",
   "metadata": {
    "scrolled": true,
    "tags": []
   },
   "outputs": [
    {
     "name": "stdout",
     "output_type": "stream",
     "text": [
      "/ccb/salz4-4/avaraby/Kristen.ATAC_RNA/soft/STAR/Linux_x86_64_static/STAR --runThreadN 1 --genomeDir /ccb/salz4-4/avaraby/Kristen.ATAC_RNA/data/Macaca_mulatta.Mmul_10.110.mod.type.STAR --readFilesIn /ccb/salz4-4/avaraby/Kristen.ATAC_RNA/host_pathogen_cross_align_sim/ --outFileNamePrefix /ccb/salz4-4/avaraby/Kristen.ATAC_RNA/host_pathogen_cross_align_sim/reads.20 --clip3pNbases 0 --clip5pNbases 0 --outFilterType Normal --outSAMtype BAM SortedByCoordinate --alignEndsType Local --outSAMorder Paired --outSAMprimaryFlag OneBestScore --outFilterMultimapNmax 20 --outFilterMatchNmin 20 --outSAMmultNmax 1 --outMultimapperOrder Random --readMatesLengthsIn NotEqual --outFilterMismatchNoverLmax 0.1 --genomeLoad NoSharedMemory --limitBAMsortRAM 0 --sjdbGTFfile /ccb/salz4-4/avaraby/Kristen.ATAC_RNA/data/Macaca_mulatta.Mmul_10.110.gffread.gtf --outSAMunmapped None\n",
      "\t/ccb/salz4-4/avaraby/Kristen.ATAC_RNA/soft/STAR/Linux_x86_64_static/STAR --runThreadN 1 --genomeDir /ccb/salz4-4/avaraby/Kristen.ATAC_RNA/data/Macaca_mulatta.Mmul_10.110.mod.type.STAR --readFilesIn /ccb/salz4-4/avaraby/Kristen.ATAC_RNA/host_pathogen_cross_align_sim/ --outFileNamePrefix /ccb/salz4-4/avaraby/Kristen.ATAC_RNA/host_pathogen_cross_align_sim/reads.20 --clip3pNbases 0 --clip5pNbases 0 --outFilterType Normal --outSAMtype BAM SortedByCoordinate --alignEndsType Local --outSAMorder Paired --outSAMprimaryFlag OneBestScore --outFilterMultimapNmax 20 --outFilterMatchNmin 20 --outSAMmultNmax 1 --outMultimapperOrder Random --readMatesLengthsIn NotEqual --outFilterMismatchNoverLmax 0.1 --genomeLoad NoSharedMemory --limitBAMsortRAM 0 --sjdbGTFfile /ccb/salz4-4/avaraby/Kristen.ATAC_RNA/data/Macaca_mulatta.Mmul_10.110.gffread.gtf --outSAMunmapped None\n",
      "\tSTAR version: 2.7.11a   compiled: 2023-08-15T11:38:34-04:00 :/home/dobin/data/STAR/STARcode/STAR.master/source\n",
      "Nov 20 22:14:51 ..... started STAR run\n",
      "Nov 20 22:14:52 ..... loading genome\n",
      "Nov 20 22:15:55 ..... processing annotations GTF\n",
      "Nov 20 22:15:59 ..... inserting junctions into the genome indices\n",
      "Nov 20 22:17:15 ..... started mapping\n",
      "Nov 20 22:17:16 ..... finished mapping\n",
      "Nov 20 22:17:17 ..... started sorting BAM\n",
      "Nov 20 22:17:17 ..... finished successfully\n",
      "/ccb/salz4-4/avaraby/Kristen.ATAC_RNA/soft/STAR/Linux_x86_64_static/STAR --runThreadN 1 --genomeDir /ccb/salz4-4/avaraby/Kristen.ATAC_RNA/data/Macaca_mulatta.Mmul_10.110.mod.type.STAR --readFilesIn /ccb/salz4-4/avaraby/Kristen.ATAC_RNA/host_pathogen_cross_align_sim/ --outFileNamePrefix /ccb/salz4-4/avaraby/Kristen.ATAC_RNA/host_pathogen_cross_align_sim/reads.30 --clip3pNbases 0 --clip5pNbases 0 --outFilterType Normal --outSAMtype BAM SortedByCoordinate --alignEndsType Local --outSAMorder Paired --outSAMprimaryFlag OneBestScore --outFilterMultimapNmax 20 --outFilterMatchNmin 20 --outSAMmultNmax 1 --outMultimapperOrder Random --readMatesLengthsIn NotEqual --outFilterMismatchNoverLmax 0.1 --genomeLoad NoSharedMemory --limitBAMsortRAM 0 --sjdbGTFfile /ccb/salz4-4/avaraby/Kristen.ATAC_RNA/data/Macaca_mulatta.Mmul_10.110.gffread.gtf --outSAMunmapped None\n",
      "\t/ccb/salz4-4/avaraby/Kristen.ATAC_RNA/soft/STAR/Linux_x86_64_static/STAR --runThreadN 1 --genomeDir /ccb/salz4-4/avaraby/Kristen.ATAC_RNA/data/Macaca_mulatta.Mmul_10.110.mod.type.STAR --readFilesIn /ccb/salz4-4/avaraby/Kristen.ATAC_RNA/host_pathogen_cross_align_sim/ --outFileNamePrefix /ccb/salz4-4/avaraby/Kristen.ATAC_RNA/host_pathogen_cross_align_sim/reads.30 --clip3pNbases 0 --clip5pNbases 0 --outFilterType Normal --outSAMtype BAM SortedByCoordinate --alignEndsType Local --outSAMorder Paired --outSAMprimaryFlag OneBestScore --outFilterMultimapNmax 20 --outFilterMatchNmin 20 --outSAMmultNmax 1 --outMultimapperOrder Random --readMatesLengthsIn NotEqual --outFilterMismatchNoverLmax 0.1 --genomeLoad NoSharedMemory --limitBAMsortRAM 0 --sjdbGTFfile /ccb/salz4-4/avaraby/Kristen.ATAC_RNA/data/Macaca_mulatta.Mmul_10.110.gffread.gtf --outSAMunmapped None\n",
      "\tSTAR version: 2.7.11a   compiled: 2023-08-15T11:38:34-04:00 :/home/dobin/data/STAR/STARcode/STAR.master/source\n",
      "Nov 20 22:17:18 ..... started STAR run\n",
      "Nov 20 22:17:18 ..... loading genome\n",
      "Nov 20 22:18:00 ..... processing annotations GTF\n",
      "Nov 20 22:18:04 ..... inserting junctions into the genome indices\n",
      "Nov 20 22:19:22 ..... started mapping\n",
      "Nov 20 22:19:22 ..... finished mapping\n",
      "Nov 20 22:19:24 ..... started sorting BAM\n",
      "Nov 20 22:19:24 ..... finished successfully\n",
      "/ccb/salz4-4/avaraby/Kristen.ATAC_RNA/soft/STAR/Linux_x86_64_static/STAR --runThreadN 1 --genomeDir /ccb/salz4-4/avaraby/Kristen.ATAC_RNA/data/Macaca_mulatta.Mmul_10.110.mod.type.STAR --readFilesIn /ccb/salz4-4/avaraby/Kristen.ATAC_RNA/host_pathogen_cross_align_sim/ --outFileNamePrefix /ccb/salz4-4/avaraby/Kristen.ATAC_RNA/host_pathogen_cross_align_sim/reads.40 --clip3pNbases 0 --clip5pNbases 0 --outFilterType Normal --outSAMtype BAM SortedByCoordinate --alignEndsType Local --outSAMorder Paired --outSAMprimaryFlag OneBestScore --outFilterMultimapNmax 20 --outFilterMatchNmin 20 --outSAMmultNmax 1 --outMultimapperOrder Random --readMatesLengthsIn NotEqual --outFilterMismatchNoverLmax 0.1 --genomeLoad NoSharedMemory --limitBAMsortRAM 0 --sjdbGTFfile /ccb/salz4-4/avaraby/Kristen.ATAC_RNA/data/Macaca_mulatta.Mmul_10.110.gffread.gtf --outSAMunmapped None\n",
      "\t/ccb/salz4-4/avaraby/Kristen.ATAC_RNA/soft/STAR/Linux_x86_64_static/STAR --runThreadN 1 --genomeDir /ccb/salz4-4/avaraby/Kristen.ATAC_RNA/data/Macaca_mulatta.Mmul_10.110.mod.type.STAR --readFilesIn /ccb/salz4-4/avaraby/Kristen.ATAC_RNA/host_pathogen_cross_align_sim/ --outFileNamePrefix /ccb/salz4-4/avaraby/Kristen.ATAC_RNA/host_pathogen_cross_align_sim/reads.40 --clip3pNbases 0 --clip5pNbases 0 --outFilterType Normal --outSAMtype BAM SortedByCoordinate --alignEndsType Local --outSAMorder Paired --outSAMprimaryFlag OneBestScore --outFilterMultimapNmax 20 --outFilterMatchNmin 20 --outSAMmultNmax 1 --outMultimapperOrder Random --readMatesLengthsIn NotEqual --outFilterMismatchNoverLmax 0.1 --genomeLoad NoSharedMemory --limitBAMsortRAM 0 --sjdbGTFfile /ccb/salz4-4/avaraby/Kristen.ATAC_RNA/data/Macaca_mulatta.Mmul_10.110.gffread.gtf --outSAMunmapped None\n",
      "\tSTAR version: 2.7.11a   compiled: 2023-08-15T11:38:34-04:00 :/home/dobin/data/STAR/STARcode/STAR.master/source\n",
      "Nov 20 22:19:25 ..... started STAR run\n",
      "Nov 20 22:19:25 ..... loading genome\n",
      "Nov 20 22:19:59 ..... processing annotations GTF\n",
      "Nov 20 22:20:03 ..... inserting junctions into the genome indices\n",
      "Nov 20 22:21:20 ..... started mapping\n",
      "Nov 20 22:21:21 ..... finished mapping\n",
      "Nov 20 22:21:22 ..... started sorting BAM\n",
      "Nov 20 22:21:22 ..... finished successfully\n",
      "/ccb/salz4-4/avaraby/Kristen.ATAC_RNA/soft/STAR/Linux_x86_64_static/STAR --runThreadN 1 --genomeDir /ccb/salz4-4/avaraby/Kristen.ATAC_RNA/data/Macaca_mulatta.Mmul_10.110.mod.type.STAR --readFilesIn /ccb/salz4-4/avaraby/Kristen.ATAC_RNA/host_pathogen_cross_align_sim/ --outFileNamePrefix /ccb/salz4-4/avaraby/Kristen.ATAC_RNA/host_pathogen_cross_align_sim/reads.50 --clip3pNbases 0 --clip5pNbases 0 --outFilterType Normal --outSAMtype BAM SortedByCoordinate --alignEndsType Local --outSAMorder Paired --outSAMprimaryFlag OneBestScore --outFilterMultimapNmax 20 --outFilterMatchNmin 20 --outSAMmultNmax 1 --outMultimapperOrder Random --readMatesLengthsIn NotEqual --outFilterMismatchNoverLmax 0.1 --genomeLoad NoSharedMemory --limitBAMsortRAM 0 --sjdbGTFfile /ccb/salz4-4/avaraby/Kristen.ATAC_RNA/data/Macaca_mulatta.Mmul_10.110.gffread.gtf --outSAMunmapped None\n",
      "\t/ccb/salz4-4/avaraby/Kristen.ATAC_RNA/soft/STAR/Linux_x86_64_static/STAR --runThreadN 1 --genomeDir /ccb/salz4-4/avaraby/Kristen.ATAC_RNA/data/Macaca_mulatta.Mmul_10.110.mod.type.STAR --readFilesIn /ccb/salz4-4/avaraby/Kristen.ATAC_RNA/host_pathogen_cross_align_sim/ --outFileNamePrefix /ccb/salz4-4/avaraby/Kristen.ATAC_RNA/host_pathogen_cross_align_sim/reads.50 --clip3pNbases 0 --clip5pNbases 0 --outFilterType Normal --outSAMtype BAM SortedByCoordinate --alignEndsType Local --outSAMorder Paired --outSAMprimaryFlag OneBestScore --outFilterMultimapNmax 20 --outFilterMatchNmin 20 --outSAMmultNmax 1 --outMultimapperOrder Random --readMatesLengthsIn NotEqual --outFilterMismatchNoverLmax 0.1 --genomeLoad NoSharedMemory --limitBAMsortRAM 0 --sjdbGTFfile /ccb/salz4-4/avaraby/Kristen.ATAC_RNA/data/Macaca_mulatta.Mmul_10.110.gffread.gtf --outSAMunmapped None\n",
      "\tSTAR version: 2.7.11a   compiled: 2023-08-15T11:38:34-04:00 :/home/dobin/data/STAR/STARcode/STAR.master/source\n",
      "Nov 20 22:21:24 ..... started STAR run\n",
      "Nov 20 22:21:24 ..... loading genome\n",
      "Nov 20 22:21:55 ..... processing annotations GTF\n",
      "Nov 20 22:21:59 ..... inserting junctions into the genome indices\n",
      "Nov 20 22:23:16 ..... started mapping\n",
      "Nov 20 22:23:17 ..... finished mapping\n",
      "Nov 20 22:23:18 ..... started sorting BAM\n",
      "Nov 20 22:23:18 ..... finished successfully\n",
      "/ccb/salz4-4/avaraby/Kristen.ATAC_RNA/soft/STAR/Linux_x86_64_static/STAR --runThreadN 1 --genomeDir /ccb/salz4-4/avaraby/Kristen.ATAC_RNA/data/Macaca_mulatta.Mmul_10.110.mod.type.STAR --readFilesIn /ccb/salz4-4/avaraby/Kristen.ATAC_RNA/host_pathogen_cross_align_sim/ --outFileNamePrefix /ccb/salz4-4/avaraby/Kristen.ATAC_RNA/host_pathogen_cross_align_sim/reads.60 --clip3pNbases 0 --clip5pNbases 0 --outFilterType Normal --outSAMtype BAM SortedByCoordinate --alignEndsType Local --outSAMorder Paired --outSAMprimaryFlag OneBestScore --outFilterMultimapNmax 20 --outFilterMatchNmin 20 --outSAMmultNmax 1 --outMultimapperOrder Random --readMatesLengthsIn NotEqual --outFilterMismatchNoverLmax 0.1 --genomeLoad NoSharedMemory --limitBAMsortRAM 0 --sjdbGTFfile /ccb/salz4-4/avaraby/Kristen.ATAC_RNA/data/Macaca_mulatta.Mmul_10.110.gffread.gtf --outSAMunmapped None\n",
      "\t/ccb/salz4-4/avaraby/Kristen.ATAC_RNA/soft/STAR/Linux_x86_64_static/STAR --runThreadN 1 --genomeDir /ccb/salz4-4/avaraby/Kristen.ATAC_RNA/data/Macaca_mulatta.Mmul_10.110.mod.type.STAR --readFilesIn /ccb/salz4-4/avaraby/Kristen.ATAC_RNA/host_pathogen_cross_align_sim/ --outFileNamePrefix /ccb/salz4-4/avaraby/Kristen.ATAC_RNA/host_pathogen_cross_align_sim/reads.60 --clip3pNbases 0 --clip5pNbases 0 --outFilterType Normal --outSAMtype BAM SortedByCoordinate --alignEndsType Local --outSAMorder Paired --outSAMprimaryFlag OneBestScore --outFilterMultimapNmax 20 --outFilterMatchNmin 20 --outSAMmultNmax 1 --outMultimapperOrder Random --readMatesLengthsIn NotEqual --outFilterMismatchNoverLmax 0.1 --genomeLoad NoSharedMemory --limitBAMsortRAM 0 --sjdbGTFfile /ccb/salz4-4/avaraby/Kristen.ATAC_RNA/data/Macaca_mulatta.Mmul_10.110.gffread.gtf --outSAMunmapped None\n",
      "\tSTAR version: 2.7.11a   compiled: 2023-08-15T11:38:34-04:00 :/home/dobin/data/STAR/STARcode/STAR.master/source\n",
      "Nov 20 22:23:19 ..... started STAR run\n",
      "Nov 20 22:23:19 ..... loading genome\n",
      "Nov 20 22:23:47 ..... processing annotations GTF\n",
      "Nov 20 22:23:51 ..... inserting junctions into the genome indices\n",
      "Nov 20 22:25:06 ..... started mapping\n",
      "Nov 20 22:25:07 ..... finished mapping\n",
      "Nov 20 22:25:09 ..... started sorting BAM\n",
      "Nov 20 22:25:09 ..... finished successfully\n",
      "/ccb/salz4-4/avaraby/Kristen.ATAC_RNA/soft/STAR/Linux_x86_64_static/STAR --runThreadN 1 --genomeDir /ccb/salz4-4/avaraby/Kristen.ATAC_RNA/data/Macaca_mulatta.Mmul_10.110.mod.type.STAR --readFilesIn /ccb/salz4-4/avaraby/Kristen.ATAC_RNA/host_pathogen_cross_align_sim/ --outFileNamePrefix /ccb/salz4-4/avaraby/Kristen.ATAC_RNA/host_pathogen_cross_align_sim/reads.70 --clip3pNbases 0 --clip5pNbases 0 --outFilterType Normal --outSAMtype BAM SortedByCoordinate --alignEndsType Local --outSAMorder Paired --outSAMprimaryFlag OneBestScore --outFilterMultimapNmax 20 --outFilterMatchNmin 20 --outSAMmultNmax 1 --outMultimapperOrder Random --readMatesLengthsIn NotEqual --outFilterMismatchNoverLmax 0.1 --genomeLoad NoSharedMemory --limitBAMsortRAM 0 --sjdbGTFfile /ccb/salz4-4/avaraby/Kristen.ATAC_RNA/data/Macaca_mulatta.Mmul_10.110.gffread.gtf --outSAMunmapped None\n",
      "\t/ccb/salz4-4/avaraby/Kristen.ATAC_RNA/soft/STAR/Linux_x86_64_static/STAR --runThreadN 1 --genomeDir /ccb/salz4-4/avaraby/Kristen.ATAC_RNA/data/Macaca_mulatta.Mmul_10.110.mod.type.STAR --readFilesIn /ccb/salz4-4/avaraby/Kristen.ATAC_RNA/host_pathogen_cross_align_sim/ --outFileNamePrefix /ccb/salz4-4/avaraby/Kristen.ATAC_RNA/host_pathogen_cross_align_sim/reads.70 --clip3pNbases 0 --clip5pNbases 0 --outFilterType Normal --outSAMtype BAM SortedByCoordinate --alignEndsType Local --outSAMorder Paired --outSAMprimaryFlag OneBestScore --outFilterMultimapNmax 20 --outFilterMatchNmin 20 --outSAMmultNmax 1 --outMultimapperOrder Random --readMatesLengthsIn NotEqual --outFilterMismatchNoverLmax 0.1 --genomeLoad NoSharedMemory --limitBAMsortRAM 0 --sjdbGTFfile /ccb/salz4-4/avaraby/Kristen.ATAC_RNA/data/Macaca_mulatta.Mmul_10.110.gffread.gtf --outSAMunmapped None\n",
      "\tSTAR version: 2.7.11a   compiled: 2023-08-15T11:38:34-04:00 :/home/dobin/data/STAR/STARcode/STAR.master/source\n",
      "Nov 20 22:25:10 ..... started STAR run\n",
      "Nov 20 22:25:10 ..... loading genome\n",
      "Nov 20 22:25:37 ..... processing annotations GTF\n",
      "Nov 20 22:25:41 ..... inserting junctions into the genome indices\n",
      "Nov 20 22:27:06 ..... started mapping\n",
      "Nov 20 22:27:06 ..... finished mapping\n",
      "Nov 20 22:27:08 ..... started sorting BAM\n",
      "Nov 20 22:27:08 ..... finished successfully\n",
      "/ccb/salz4-4/avaraby/Kristen.ATAC_RNA/soft/STAR/Linux_x86_64_static/STAR --runThreadN 1 --genomeDir /ccb/salz4-4/avaraby/Kristen.ATAC_RNA/data/Macaca_mulatta.Mmul_10.110.mod.type.STAR --readFilesIn /ccb/salz4-4/avaraby/Kristen.ATAC_RNA/host_pathogen_cross_align_sim/ --outFileNamePrefix /ccb/salz4-4/avaraby/Kristen.ATAC_RNA/host_pathogen_cross_align_sim/reads.80 --clip3pNbases 0 --clip5pNbases 0 --outFilterType Normal --outSAMtype BAM SortedByCoordinate --alignEndsType Local --outSAMorder Paired --outSAMprimaryFlag OneBestScore --outFilterMultimapNmax 20 --outFilterMatchNmin 20 --outSAMmultNmax 1 --outMultimapperOrder Random --readMatesLengthsIn NotEqual --outFilterMismatchNoverLmax 0.1 --genomeLoad NoSharedMemory --limitBAMsortRAM 0 --sjdbGTFfile /ccb/salz4-4/avaraby/Kristen.ATAC_RNA/data/Macaca_mulatta.Mmul_10.110.gffread.gtf --outSAMunmapped None\n",
      "\t/ccb/salz4-4/avaraby/Kristen.ATAC_RNA/soft/STAR/Linux_x86_64_static/STAR --runThreadN 1 --genomeDir /ccb/salz4-4/avaraby/Kristen.ATAC_RNA/data/Macaca_mulatta.Mmul_10.110.mod.type.STAR --readFilesIn /ccb/salz4-4/avaraby/Kristen.ATAC_RNA/host_pathogen_cross_align_sim/ --outFileNamePrefix /ccb/salz4-4/avaraby/Kristen.ATAC_RNA/host_pathogen_cross_align_sim/reads.80 --clip3pNbases 0 --clip5pNbases 0 --outFilterType Normal --outSAMtype BAM SortedByCoordinate --alignEndsType Local --outSAMorder Paired --outSAMprimaryFlag OneBestScore --outFilterMultimapNmax 20 --outFilterMatchNmin 20 --outSAMmultNmax 1 --outMultimapperOrder Random --readMatesLengthsIn NotEqual --outFilterMismatchNoverLmax 0.1 --genomeLoad NoSharedMemory --limitBAMsortRAM 0 --sjdbGTFfile /ccb/salz4-4/avaraby/Kristen.ATAC_RNA/data/Macaca_mulatta.Mmul_10.110.gffread.gtf --outSAMunmapped None\n",
      "\tSTAR version: 2.7.11a   compiled: 2023-08-15T11:38:34-04:00 :/home/dobin/data/STAR/STARcode/STAR.master/source\n",
      "Nov 20 22:27:09 ..... started STAR run\n",
      "Nov 20 22:27:09 ..... loading genome\n",
      "Nov 20 22:27:32 ..... processing annotations GTF\n",
      "Nov 20 22:27:36 ..... inserting junctions into the genome indices\n",
      "Nov 20 22:28:51 ..... started mapping\n",
      "Nov 20 22:28:52 ..... finished mapping\n",
      "Nov 20 22:28:53 ..... started sorting BAM\n",
      "Nov 20 22:28:53 ..... finished successfully\n",
      "/ccb/salz4-4/avaraby/Kristen.ATAC_RNA/soft/STAR/Linux_x86_64_static/STAR --runThreadN 1 --genomeDir /ccb/salz4-4/avaraby/Kristen.ATAC_RNA/data/Macaca_mulatta.Mmul_10.110.mod.type.STAR --readFilesIn /ccb/salz4-4/avaraby/Kristen.ATAC_RNA/host_pathogen_cross_align_sim/ --outFileNamePrefix /ccb/salz4-4/avaraby/Kristen.ATAC_RNA/host_pathogen_cross_align_sim/reads.90 --clip3pNbases 0 --clip5pNbases 0 --outFilterType Normal --outSAMtype BAM SortedByCoordinate --alignEndsType Local --outSAMorder Paired --outSAMprimaryFlag OneBestScore --outFilterMultimapNmax 20 --outFilterMatchNmin 20 --outSAMmultNmax 1 --outMultimapperOrder Random --readMatesLengthsIn NotEqual --outFilterMismatchNoverLmax 0.1 --genomeLoad NoSharedMemory --limitBAMsortRAM 0 --sjdbGTFfile /ccb/salz4-4/avaraby/Kristen.ATAC_RNA/data/Macaca_mulatta.Mmul_10.110.gffread.gtf --outSAMunmapped None\n",
      "\t/ccb/salz4-4/avaraby/Kristen.ATAC_RNA/soft/STAR/Linux_x86_64_static/STAR --runThreadN 1 --genomeDir /ccb/salz4-4/avaraby/Kristen.ATAC_RNA/data/Macaca_mulatta.Mmul_10.110.mod.type.STAR --readFilesIn /ccb/salz4-4/avaraby/Kristen.ATAC_RNA/host_pathogen_cross_align_sim/ --outFileNamePrefix /ccb/salz4-4/avaraby/Kristen.ATAC_RNA/host_pathogen_cross_align_sim/reads.90 --clip3pNbases 0 --clip5pNbases 0 --outFilterType Normal --outSAMtype BAM SortedByCoordinate --alignEndsType Local --outSAMorder Paired --outSAMprimaryFlag OneBestScore --outFilterMultimapNmax 20 --outFilterMatchNmin 20 --outSAMmultNmax 1 --outMultimapperOrder Random --readMatesLengthsIn NotEqual --outFilterMismatchNoverLmax 0.1 --genomeLoad NoSharedMemory --limitBAMsortRAM 0 --sjdbGTFfile /ccb/salz4-4/avaraby/Kristen.ATAC_RNA/data/Macaca_mulatta.Mmul_10.110.gffread.gtf --outSAMunmapped None\n",
      "\tSTAR version: 2.7.11a   compiled: 2023-08-15T11:38:34-04:00 :/home/dobin/data/STAR/STARcode/STAR.master/source\n",
      "Nov 20 22:28:54 ..... started STAR run\n",
      "Nov 20 22:28:54 ..... loading genome\n",
      "Nov 20 22:29:17 ..... processing annotations GTF\n",
      "Nov 20 22:29:21 ..... inserting junctions into the genome indices\n",
      "Nov 20 22:30:36 ..... started mapping\n",
      "Nov 20 22:30:37 ..... finished mapping\n",
      "Nov 20 22:30:38 ..... started sorting BAM\n",
      "Nov 20 22:30:38 ..... finished successfully\n",
      "/ccb/salz4-4/avaraby/Kristen.ATAC_RNA/soft/STAR/Linux_x86_64_static/STAR --runThreadN 1 --genomeDir /ccb/salz4-4/avaraby/Kristen.ATAC_RNA/data/Macaca_mulatta.Mmul_10.110.mod.type.STAR --readFilesIn /ccb/salz4-4/avaraby/Kristen.ATAC_RNA/host_pathogen_cross_align_sim/ --outFileNamePrefix /ccb/salz4-4/avaraby/Kristen.ATAC_RNA/host_pathogen_cross_align_sim/reads.100 --clip3pNbases 0 --clip5pNbases 0 --outFilterType Normal --outSAMtype BAM SortedByCoordinate --alignEndsType Local --outSAMorder Paired --outSAMprimaryFlag OneBestScore --outFilterMultimapNmax 20 --outFilterMatchNmin 20 --outSAMmultNmax 1 --outMultimapperOrder Random --readMatesLengthsIn NotEqual --outFilterMismatchNoverLmax 0.1 --genomeLoad NoSharedMemory --limitBAMsortRAM 0 --sjdbGTFfile /ccb/salz4-4/avaraby/Kristen.ATAC_RNA/data/Macaca_mulatta.Mmul_10.110.gffread.gtf --outSAMunmapped None\n",
      "\t/ccb/salz4-4/avaraby/Kristen.ATAC_RNA/soft/STAR/Linux_x86_64_static/STAR --runThreadN 1 --genomeDir /ccb/salz4-4/avaraby/Kristen.ATAC_RNA/data/Macaca_mulatta.Mmul_10.110.mod.type.STAR --readFilesIn /ccb/salz4-4/avaraby/Kristen.ATAC_RNA/host_pathogen_cross_align_sim/ --outFileNamePrefix /ccb/salz4-4/avaraby/Kristen.ATAC_RNA/host_pathogen_cross_align_sim/reads.100 --clip3pNbases 0 --clip5pNbases 0 --outFilterType Normal --outSAMtype BAM SortedByCoordinate --alignEndsType Local --outSAMorder Paired --outSAMprimaryFlag OneBestScore --outFilterMultimapNmax 20 --outFilterMatchNmin 20 --outSAMmultNmax 1 --outMultimapperOrder Random --readMatesLengthsIn NotEqual --outFilterMismatchNoverLmax 0.1 --genomeLoad NoSharedMemory --limitBAMsortRAM 0 --sjdbGTFfile /ccb/salz4-4/avaraby/Kristen.ATAC_RNA/data/Macaca_mulatta.Mmul_10.110.gffread.gtf --outSAMunmapped None\n",
      "\tSTAR version: 2.7.11a   compiled: 2023-08-15T11:38:34-04:00 :/home/dobin/data/STAR/STARcode/STAR.master/source\n",
      "Nov 20 22:30:40 ..... started STAR run\n",
      "Nov 20 22:30:40 ..... loading genome\n",
      "Nov 20 22:31:04 ..... processing annotations GTF\n",
      "Nov 20 22:31:08 ..... inserting junctions into the genome indices\n",
      "Nov 20 22:32:24 ..... started mapping\n",
      "Nov 20 22:32:25 ..... finished mapping\n",
      "Nov 20 22:32:26 ..... started sorting BAM\n",
      "Nov 20 22:32:28 ..... finished successfully\n",
      "/ccb/salz4-4/avaraby/Kristen.ATAC_RNA/soft/STAR/Linux_x86_64_static/STAR --runThreadN 1 --genomeDir /ccb/salz4-4/avaraby/Kristen.ATAC_RNA/data/Macaca_mulatta.Mmul_10.110.mod.type.STAR --readFilesIn /ccb/salz4-4/avaraby/Kristen.ATAC_RNA/host_pathogen_cross_align_sim/ --outFileNamePrefix /ccb/salz4-4/avaraby/Kristen.ATAC_RNA/host_pathogen_cross_align_sim/reads.110 --clip3pNbases 0 --clip5pNbases 0 --outFilterType Normal --outSAMtype BAM SortedByCoordinate --alignEndsType Local --outSAMorder Paired --outSAMprimaryFlag OneBestScore --outFilterMultimapNmax 20 --outFilterMatchNmin 20 --outSAMmultNmax 1 --outMultimapperOrder Random --readMatesLengthsIn NotEqual --outFilterMismatchNoverLmax 0.1 --genomeLoad NoSharedMemory --limitBAMsortRAM 0 --sjdbGTFfile /ccb/salz4-4/avaraby/Kristen.ATAC_RNA/data/Macaca_mulatta.Mmul_10.110.gffread.gtf --outSAMunmapped None\n",
      "\t/ccb/salz4-4/avaraby/Kristen.ATAC_RNA/soft/STAR/Linux_x86_64_static/STAR --runThreadN 1 --genomeDir /ccb/salz4-4/avaraby/Kristen.ATAC_RNA/data/Macaca_mulatta.Mmul_10.110.mod.type.STAR --readFilesIn /ccb/salz4-4/avaraby/Kristen.ATAC_RNA/host_pathogen_cross_align_sim/ --outFileNamePrefix /ccb/salz4-4/avaraby/Kristen.ATAC_RNA/host_pathogen_cross_align_sim/reads.110 --clip3pNbases 0 --clip5pNbases 0 --outFilterType Normal --outSAMtype BAM SortedByCoordinate --alignEndsType Local --outSAMorder Paired --outSAMprimaryFlag OneBestScore --outFilterMultimapNmax 20 --outFilterMatchNmin 20 --outSAMmultNmax 1 --outMultimapperOrder Random --readMatesLengthsIn NotEqual --outFilterMismatchNoverLmax 0.1 --genomeLoad NoSharedMemory --limitBAMsortRAM 0 --sjdbGTFfile /ccb/salz4-4/avaraby/Kristen.ATAC_RNA/data/Macaca_mulatta.Mmul_10.110.gffread.gtf --outSAMunmapped None\n",
      "\tSTAR version: 2.7.11a   compiled: 2023-08-15T11:38:34-04:00 :/home/dobin/data/STAR/STARcode/STAR.master/source\n",
      "Nov 20 22:32:29 ..... started STAR run\n",
      "Nov 20 22:32:29 ..... loading genome\n",
      "Nov 20 22:32:56 ..... processing annotations GTF\n",
      "Nov 20 22:33:01 ..... inserting junctions into the genome indices\n",
      "Nov 20 22:34:20 ..... started mapping\n",
      "Nov 20 22:34:21 ..... finished mapping\n",
      "Nov 20 22:34:23 ..... started sorting BAM\n",
      "Nov 20 22:34:23 ..... finished successfully\n",
      "/ccb/salz4-4/avaraby/Kristen.ATAC_RNA/soft/STAR/Linux_x86_64_static/STAR --runThreadN 1 --genomeDir /ccb/salz4-4/avaraby/Kristen.ATAC_RNA/data/Macaca_mulatta.Mmul_10.110.mod.type.STAR --readFilesIn /ccb/salz4-4/avaraby/Kristen.ATAC_RNA/host_pathogen_cross_align_sim/ --outFileNamePrefix /ccb/salz4-4/avaraby/Kristen.ATAC_RNA/host_pathogen_cross_align_sim/reads.120 --clip3pNbases 0 --clip5pNbases 0 --outFilterType Normal --outSAMtype BAM SortedByCoordinate --alignEndsType Local --outSAMorder Paired --outSAMprimaryFlag OneBestScore --outFilterMultimapNmax 20 --outFilterMatchNmin 20 --outSAMmultNmax 1 --outMultimapperOrder Random --readMatesLengthsIn NotEqual --outFilterMismatchNoverLmax 0.1 --genomeLoad NoSharedMemory --limitBAMsortRAM 0 --sjdbGTFfile /ccb/salz4-4/avaraby/Kristen.ATAC_RNA/data/Macaca_mulatta.Mmul_10.110.gffread.gtf --outSAMunmapped None\n",
      "\t/ccb/salz4-4/avaraby/Kristen.ATAC_RNA/soft/STAR/Linux_x86_64_static/STAR --runThreadN 1 --genomeDir /ccb/salz4-4/avaraby/Kristen.ATAC_RNA/data/Macaca_mulatta.Mmul_10.110.mod.type.STAR --readFilesIn /ccb/salz4-4/avaraby/Kristen.ATAC_RNA/host_pathogen_cross_align_sim/ --outFileNamePrefix /ccb/salz4-4/avaraby/Kristen.ATAC_RNA/host_pathogen_cross_align_sim/reads.120 --clip3pNbases 0 --clip5pNbases 0 --outFilterType Normal --outSAMtype BAM SortedByCoordinate --alignEndsType Local --outSAMorder Paired --outSAMprimaryFlag OneBestScore --outFilterMultimapNmax 20 --outFilterMatchNmin 20 --outSAMmultNmax 1 --outMultimapperOrder Random --readMatesLengthsIn NotEqual --outFilterMismatchNoverLmax 0.1 --genomeLoad NoSharedMemory --limitBAMsortRAM 0 --sjdbGTFfile /ccb/salz4-4/avaraby/Kristen.ATAC_RNA/data/Macaca_mulatta.Mmul_10.110.gffread.gtf --outSAMunmapped None\n",
      "\tSTAR version: 2.7.11a   compiled: 2023-08-15T11:38:34-04:00 :/home/dobin/data/STAR/STARcode/STAR.master/source\n",
      "Nov 20 22:34:24 ..... started STAR run\n",
      "Nov 20 22:34:25 ..... loading genome\n",
      "Nov 20 22:34:49 ..... processing annotations GTF\n",
      "Nov 20 22:34:53 ..... inserting junctions into the genome indices\n",
      "Nov 20 22:36:10 ..... started mapping\n",
      "Nov 20 22:36:11 ..... finished mapping\n",
      "Nov 20 22:36:12 ..... started sorting BAM\n",
      "Nov 20 22:36:12 ..... finished successfully\n",
      "/ccb/salz4-4/avaraby/Kristen.ATAC_RNA/soft/STAR/Linux_x86_64_static/STAR --runThreadN 1 --genomeDir /ccb/salz4-4/avaraby/Kristen.ATAC_RNA/data/Macaca_mulatta.Mmul_10.110.mod.type.STAR --readFilesIn /ccb/salz4-4/avaraby/Kristen.ATAC_RNA/host_pathogen_cross_align_sim/ --outFileNamePrefix /ccb/salz4-4/avaraby/Kristen.ATAC_RNA/host_pathogen_cross_align_sim/reads.130 --clip3pNbases 0 --clip5pNbases 0 --outFilterType Normal --outSAMtype BAM SortedByCoordinate --alignEndsType Local --outSAMorder Paired --outSAMprimaryFlag OneBestScore --outFilterMultimapNmax 20 --outFilterMatchNmin 20 --outSAMmultNmax 1 --outMultimapperOrder Random --readMatesLengthsIn NotEqual --outFilterMismatchNoverLmax 0.1 --genomeLoad NoSharedMemory --limitBAMsortRAM 0 --sjdbGTFfile /ccb/salz4-4/avaraby/Kristen.ATAC_RNA/data/Macaca_mulatta.Mmul_10.110.gffread.gtf --outSAMunmapped None\n",
      "\t/ccb/salz4-4/avaraby/Kristen.ATAC_RNA/soft/STAR/Linux_x86_64_static/STAR --runThreadN 1 --genomeDir /ccb/salz4-4/avaraby/Kristen.ATAC_RNA/data/Macaca_mulatta.Mmul_10.110.mod.type.STAR --readFilesIn /ccb/salz4-4/avaraby/Kristen.ATAC_RNA/host_pathogen_cross_align_sim/ --outFileNamePrefix /ccb/salz4-4/avaraby/Kristen.ATAC_RNA/host_pathogen_cross_align_sim/reads.130 --clip3pNbases 0 --clip5pNbases 0 --outFilterType Normal --outSAMtype BAM SortedByCoordinate --alignEndsType Local --outSAMorder Paired --outSAMprimaryFlag OneBestScore --outFilterMultimapNmax 20 --outFilterMatchNmin 20 --outSAMmultNmax 1 --outMultimapperOrder Random --readMatesLengthsIn NotEqual --outFilterMismatchNoverLmax 0.1 --genomeLoad NoSharedMemory --limitBAMsortRAM 0 --sjdbGTFfile /ccb/salz4-4/avaraby/Kristen.ATAC_RNA/data/Macaca_mulatta.Mmul_10.110.gffread.gtf --outSAMunmapped None\n",
      "\tSTAR version: 2.7.11a   compiled: 2023-08-15T11:38:34-04:00 :/home/dobin/data/STAR/STARcode/STAR.master/source\n",
      "Nov 20 22:36:13 ..... started STAR run\n",
      "Nov 20 22:36:13 ..... loading genome\n",
      "Nov 20 22:36:39 ..... processing annotations GTF\n",
      "Nov 20 22:36:43 ..... inserting junctions into the genome indices\n",
      "Nov 20 22:38:00 ..... started mapping\n",
      "Nov 20 22:38:00 ..... finished mapping\n",
      "Nov 20 22:38:02 ..... started sorting BAM\n",
      "Nov 20 22:38:02 ..... finished successfully\n",
      "/ccb/salz4-4/avaraby/Kristen.ATAC_RNA/soft/STAR/Linux_x86_64_static/STAR --runThreadN 1 --genomeDir /ccb/salz4-4/avaraby/Kristen.ATAC_RNA/data/Macaca_mulatta.Mmul_10.110.mod.type.STAR --readFilesIn /ccb/salz4-4/avaraby/Kristen.ATAC_RNA/host_pathogen_cross_align_sim/ --outFileNamePrefix /ccb/salz4-4/avaraby/Kristen.ATAC_RNA/host_pathogen_cross_align_sim/reads.140 --clip3pNbases 0 --clip5pNbases 0 --outFilterType Normal --outSAMtype BAM SortedByCoordinate --alignEndsType Local --outSAMorder Paired --outSAMprimaryFlag OneBestScore --outFilterMultimapNmax 20 --outFilterMatchNmin 20 --outSAMmultNmax 1 --outMultimapperOrder Random --readMatesLengthsIn NotEqual --outFilterMismatchNoverLmax 0.1 --genomeLoad NoSharedMemory --limitBAMsortRAM 0 --sjdbGTFfile /ccb/salz4-4/avaraby/Kristen.ATAC_RNA/data/Macaca_mulatta.Mmul_10.110.gffread.gtf --outSAMunmapped None\n",
      "\t/ccb/salz4-4/avaraby/Kristen.ATAC_RNA/soft/STAR/Linux_x86_64_static/STAR --runThreadN 1 --genomeDir /ccb/salz4-4/avaraby/Kristen.ATAC_RNA/data/Macaca_mulatta.Mmul_10.110.mod.type.STAR --readFilesIn /ccb/salz4-4/avaraby/Kristen.ATAC_RNA/host_pathogen_cross_align_sim/ --outFileNamePrefix /ccb/salz4-4/avaraby/Kristen.ATAC_RNA/host_pathogen_cross_align_sim/reads.140 --clip3pNbases 0 --clip5pNbases 0 --outFilterType Normal --outSAMtype BAM SortedByCoordinate --alignEndsType Local --outSAMorder Paired --outSAMprimaryFlag OneBestScore --outFilterMultimapNmax 20 --outFilterMatchNmin 20 --outSAMmultNmax 1 --outMultimapperOrder Random --readMatesLengthsIn NotEqual --outFilterMismatchNoverLmax 0.1 --genomeLoad NoSharedMemory --limitBAMsortRAM 0 --sjdbGTFfile /ccb/salz4-4/avaraby/Kristen.ATAC_RNA/data/Macaca_mulatta.Mmul_10.110.gffread.gtf --outSAMunmapped None\n",
      "\tSTAR version: 2.7.11a   compiled: 2023-08-15T11:38:34-04:00 :/home/dobin/data/STAR/STARcode/STAR.master/source\n",
      "Nov 20 22:38:03 ..... started STAR run\n",
      "Nov 20 22:38:03 ..... loading genome\n",
      "Nov 20 22:38:25 ..... processing annotations GTF\n",
      "Nov 20 22:38:29 ..... inserting junctions into the genome indices\n",
      "Nov 20 22:39:45 ..... started mapping\n",
      "Nov 20 22:39:46 ..... finished mapping\n",
      "Nov 20 22:39:47 ..... started sorting BAM\n",
      "Nov 20 22:39:47 ..... finished successfully\n",
      "/ccb/salz4-4/avaraby/Kristen.ATAC_RNA/soft/STAR/Linux_x86_64_static/STAR --runThreadN 1 --genomeDir /ccb/salz4-4/avaraby/Kristen.ATAC_RNA/data/Macaca_mulatta.Mmul_10.110.mod.type.STAR --readFilesIn /ccb/salz4-4/avaraby/Kristen.ATAC_RNA/host_pathogen_cross_align_sim/ --outFileNamePrefix /ccb/salz4-4/avaraby/Kristen.ATAC_RNA/host_pathogen_cross_align_sim/reads.150 --clip3pNbases 0 --clip5pNbases 0 --outFilterType Normal --outSAMtype BAM SortedByCoordinate --alignEndsType Local --outSAMorder Paired --outSAMprimaryFlag OneBestScore --outFilterMultimapNmax 20 --outFilterMatchNmin 20 --outSAMmultNmax 1 --outMultimapperOrder Random --readMatesLengthsIn NotEqual --outFilterMismatchNoverLmax 0.1 --genomeLoad NoSharedMemory --limitBAMsortRAM 0 --sjdbGTFfile /ccb/salz4-4/avaraby/Kristen.ATAC_RNA/data/Macaca_mulatta.Mmul_10.110.gffread.gtf --outSAMunmapped None\n",
      "\t/ccb/salz4-4/avaraby/Kristen.ATAC_RNA/soft/STAR/Linux_x86_64_static/STAR --runThreadN 1 --genomeDir /ccb/salz4-4/avaraby/Kristen.ATAC_RNA/data/Macaca_mulatta.Mmul_10.110.mod.type.STAR --readFilesIn /ccb/salz4-4/avaraby/Kristen.ATAC_RNA/host_pathogen_cross_align_sim/ --outFileNamePrefix /ccb/salz4-4/avaraby/Kristen.ATAC_RNA/host_pathogen_cross_align_sim/reads.150 --clip3pNbases 0 --clip5pNbases 0 --outFilterType Normal --outSAMtype BAM SortedByCoordinate --alignEndsType Local --outSAMorder Paired --outSAMprimaryFlag OneBestScore --outFilterMultimapNmax 20 --outFilterMatchNmin 20 --outSAMmultNmax 1 --outMultimapperOrder Random --readMatesLengthsIn NotEqual --outFilterMismatchNoverLmax 0.1 --genomeLoad NoSharedMemory --limitBAMsortRAM 0 --sjdbGTFfile /ccb/salz4-4/avaraby/Kristen.ATAC_RNA/data/Macaca_mulatta.Mmul_10.110.gffread.gtf --outSAMunmapped None\n",
      "\tSTAR version: 2.7.11a   compiled: 2023-08-15T11:38:34-04:00 :/home/dobin/data/STAR/STARcode/STAR.master/source\n",
      "Nov 20 22:39:48 ..... started STAR run\n",
      "Nov 20 22:39:48 ..... loading genome\n",
      "Nov 20 22:40:14 ..... processing annotations GTF\n",
      "Nov 20 22:40:18 ..... inserting junctions into the genome indices\n",
      "Nov 20 22:41:34 ..... started mapping\n",
      "Nov 20 22:41:35 ..... finished mapping\n",
      "Nov 20 22:41:36 ..... started sorting BAM\n",
      "Nov 20 22:41:36 ..... finished successfully\n"
     ]
    }
   ],
   "source": [
    "# now map against the macaque index\n",
    "for readlen in range(read_len_min,read_len_max,read_len_step):\n",
    "    reads_fname = outdir+\"reads.\"+str(readlen)+\".fq\"\n",
    "    \n",
    "    cmd = [\"/ccb/salz4-4/avaraby/Kristen.ATAC_RNA/soft/STAR/Linux_x86_64_static/STAR\",\n",
    "       \"--runThreadN\",\"1\",\n",
    "       \"--genomeDir\",mmul10_gff_fname.rstrip(\".gtf\")+\".mod.type.STAR\",\n",
    "       \"--readFilesIn\",outdir,\n",
    "       \"--outFileNamePrefix\",outdir+\"reads.\"+str(readlen),\n",
    "       \"--clip3pNbases\",\"0\",\n",
    "       \"--clip5pNbases\",\"0\",\n",
    "       \"--outFilterType\",\"Normal\",\n",
    "       \"--outSAMtype\",\"BAM\",\"SortedByCoordinate\",\n",
    "       \"--alignEndsType\",\"Local\",\n",
    "       \"--outSAMorder\",\"Paired\",\n",
    "       \"--outSAMprimaryFlag\",\"OneBestScore\",\n",
    "       \"--outFilterMultimapNmax\",\"20\",\n",
    "       \"--outFilterMatchNmin\",\"20\",\n",
    "       \"--outSAMmultNmax\",\"1\",\n",
    "       \"--outMultimapperOrder\",\"Random\",\n",
    "       \"--readMatesLengthsIn\",\"NotEqual\",\n",
    "       \"--outFilterMismatchNoverLmax\",\"0.1\",\n",
    "       \"--genomeLoad\",\"NoSharedMemory\",\n",
    "       \"--limitBAMsortRAM\",\"0\",\n",
    "       \"--sjdbGTFfile\",mmul10_gff_fname.rstrip(\".gtf\")+\".gffread.gtf\",\n",
    "       \"--outSAMunmapped\",\"None\"]\n",
    "    \n",
    "    print(\" \".join(cmd))\n",
    "    subprocess.call(cmd)"
   ]
  },
  {
   "cell_type": "code",
   "execution_count": 15,
   "id": "5061b09c-63bc-416c-b4df-96c8e809ddf5",
   "metadata": {
    "tags": []
   },
   "outputs": [
    {
     "data": {
      "text/plain": [
       "'/ccb/salz4-4/avaraby/Kristen.ATAC_RNA/data/Macaca_mulatta.Mmul_10.110.gffread.gtf'"
      ]
     },
     "execution_count": 15,
     "metadata": {},
     "output_type": "execute_result"
    }
   ],
   "source": [
    "mmul10_gff_fname.rstrip(\".gtf\")+\".gffread.gtf\""
   ]
  }
 ],
 "metadata": {
  "kernelspec": {
   "display_name": "Python 3 (ipykernel)",
   "language": "python",
   "name": "python3"
  },
  "language_info": {
   "codemirror_mode": {
    "name": "ipython",
    "version": 3
   },
   "file_extension": ".py",
   "mimetype": "text/x-python",
   "name": "python",
   "nbconvert_exporter": "python",
   "pygments_lexer": "ipython3",
   "version": "3.11.5"
  }
 },
 "nbformat": 4,
 "nbformat_minor": 5
}
