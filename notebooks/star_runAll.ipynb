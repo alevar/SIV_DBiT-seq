{
 "cells": [
  {
   "cell_type": "code",
   "execution_count": 6,
   "id": "f6cb494b-044b-4892-84f3-c4ca2a5cfd1c",
   "metadata": {
    "tags": []
   },
   "outputs": [],
   "source": [
    "import os\n",
    "import sys\n",
    "import glob\n",
    "import shutil\n",
    "import subprocess\n",
    "from pathlib import Path"
   ]
  },
  {
   "cell_type": "code",
   "execution_count": 7,
   "id": "e81a0b68-af97-4662-9ac7-20dfd4fd91c4",
   "metadata": {
    "tags": []
   },
   "outputs": [],
   "source": [
    "# global variables\n",
    "base_dir = Path.cwd().parent\n",
    "seq_dir = base_dir+\"seqdata/\"\n",
    "data_dir = base_dir+\"data/\"\n",
    "soft_dir = base_dir+\"soft/\"\n",
    "outdir = base_dir+\"rna_starsolo.ensembl/\"\n",
    "if not os.path.exists(outdir):\n",
    "    os.makedirs(outdir)\n",
    "\n",
    "barcodes_fname = seq_dir+\"spatial_barcodes.only.txt\"\n",
    "\n",
    "mmul10_fasta_fname = data_dir+\"Macaca_mulatta.Mmul_10.dna.toplevel.fa\"\n",
    "mmul10_gff_fname = data_dir+\"Macaca_mulatta.Mmul_10.110.gtf\"\n",
    "mmul10_resfeq_gff_fname = data_dir+\"Mmul_10_genomic.gtf\"\n",
    "\n",
    "num_threads = 24"
   ]
  },
  {
   "cell_type": "code",
   "execution_count": 8,
   "id": "5ab10430-9f63-47c5-a9f6-53097d390c18",
   "metadata": {
    "tags": []
   },
   "outputs": [
    {
     "name": "stdout",
     "output_type": "stream",
     "text": [
      "The autoreload extension is already loaded. To reload it, use:\n",
      "  %reload_ext autoreload\n"
     ]
    }
   ],
   "source": [
    "%load_ext autoreload\n",
    "%autoreload 1\n",
    "\n",
    "sys.path.insert(0, \"../scripts/genomic_scripts/\")\n",
    "%aimport definitions"
   ]
  },
  {
   "cell_type": "code",
   "execution_count": null,
   "id": "df89cdf7-5957-4101-ae52-6a93b2c868f8",
   "metadata": {},
   "outputs": [],
   "source": [
    "# open archives\n",
    "for gz_fname in glob.glob(seq_dir+\"RNA/globus/*/*gz\"):\n",
    "    subprocess.call([\"gunzip\",gz_fname])"
   ]
  },
  {
   "cell_type": "code",
   "execution_count": 12,
   "id": "a7cff40e-4e2f-4ca7-a897-37dcbb11e518",
   "metadata": {
    "tags": []
   },
   "outputs": [],
   "source": [
    "from concurrent.futures import ThreadPoolExecutor\n",
    "\n",
    "def execute_commands(commands):\n",
    "    for cmd in commands:\n",
    "        print(\" \".join([str(x) for x in cmd]))\n",
    "        subprocess.call([str(x) for x in cmd])\n",
    "\n",
    "def run_parallel_commands(command_lists):\n",
    "    with ThreadPoolExecutor() as executor:\n",
    "        executor.map(execute_commands, command_lists)"
   ]
  },
  {
   "cell_type": "code",
   "execution_count": null,
   "id": "6eedd0e6-4caf-4fa0-8ca0-69d1e63e0498",
   "metadata": {
    "scrolled": true,
    "tags": []
   },
   "outputs": [],
   "source": [
    "for processed_fname in glob.glob(seq_dir+\"RNA/globus/*/*processed.fastq\"):\n",
    "    filtered_fname = processed_fname.split(\"R2_processed.fastq\")[0]+\"R1_filtered.fastq\"\n",
    "    sample = processed_fname.rsplit(\"/\",2)[-2]\n",
    "    print(sample)\n",
    "    if not os.path.exists(filtered_fname):\n",
    "        continue\n",
    "    \n",
    "    if not os.path.exists(outdir+sample+\"/\"):\n",
    "        os.makedirs(outdir+sample+\"/\")\n",
    "        \n",
    "    umi_fname = processed_fname\n",
    "    cdna_fname = filtered_fname\n",
    "\n",
    "    barcodes_fname = seq_dir+\"spatial_barcodes.only.txt\"\n",
    "\n",
    "    ANN=mmul10_gff_fname.rstrip(\".gtf\")+\".mod.type.gtf\"\n",
    "\n",
    "    # Output folder and experiment name\n",
    "    OUTPUT=outdir+sample\n",
    "\n",
    "    REF=mmul10_gff_fname.rstrip(\".gtf\")+\".mod.type.STAR\"\n",
    "    WL=barcodes_fname\n",
    "    CBLEN=16\n",
    "    UMILEN=10\n",
    "    STRAND=\"Forward\"\n",
    "\n",
    "    star_cmd = [\"/ccb/salz4-4/avaraby/Kristen.ATAC_RNA/soft/STAR/Linux_x86_64_static/STAR\",\n",
    "           \"--runThreadN\",\"20\",\n",
    "           \"--genomeDir\",REF,\n",
    "           \"--readFilesIn\",cdna_fname,umi_fname,\n",
    "           \"--outFileNamePrefix\",OUTPUT+\"/\",\n",
    "           \"--outTmpDir\",OUTPUT+\".tmp/\",\n",
    "           \"--soloType\",\"CB_UMI_Simple\",\n",
    "           \"--soloCBwhitelist\",WL,\n",
    "           \"--soloCBstart\",\"1\",\n",
    "           \"--soloCBlen\",str(CBLEN),\n",
    "           \"--soloUMIstart\",str(CBLEN+1),\n",
    "           \"--soloUMIlen\",str(UMILEN),\n",
    "           \"--soloStrand\",STRAND,\n",
    "           \"--soloUMIdedup\",\"1MM_CR\",\n",
    "           \"--soloCBmatchWLtype\",\"1MM_multi_Nbase_pseudocounts\",\n",
    "           \"--soloUMIfiltering\",\"MultiGeneUMI_CR\",\n",
    "           \"--soloCellFilter\",\"EmptyDrops_CR\",\n",
    "           \"--outFilterScoreMin\",\"30\",\n",
    "           \"--clipAdapterType\",\"CellRanger4\",\n",
    "           \"--soloFeatures\",\"Gene\",\"GeneFull\",\n",
    "           \"--soloOutFileNames\",\"solo\",\"features.tsv\",\"barcodes.tsv\",\"matrix.mtx\",\n",
    "           \"--soloMultiMappers\",\"EM\"]\n",
    "    \n",
    "    subprocess.call(star_cmd)"
   ]
  },
  {
   "cell_type": "code",
   "execution_count": null,
   "id": "b53c6551-898a-4657-8782-26202692068a",
   "metadata": {},
   "outputs": [],
   "source": [
    "# process missing samples\n",
    "\n",
    "for processed_fname in glob.glob(seq_dir+\"RNA/globus/*/*processed.fastq\"):\n",
    "    filtered_fname = processed_fname.split(\"R2_processed.fastq\")[0]+\"R1_filtered.fastq\"\n",
    "    sample = processed_fname.rsplit(\"/\",2)[-2]\n",
    "    \n",
    "    if not sample in [\"A0N5M7\",\"RPN9IL\"]:\n",
    "        continue\n",
    "    \n",
    "    if not os.path.exists(filtered_fname):\n",
    "        continue\n",
    "    \n",
    "    if not os.path.exists(outdir+sample+\"/\"):\n",
    "        os.makedirs(outdir+sample+\"/\")\n",
    "        \n",
    "    umi_fname = processed_fname\n",
    "    cdna_fname = filtered_fname\n",
    "\n",
    "    barcodes_fname = seq_dir+\"spatial_barcodes.only.txt\"\n",
    "\n",
    "    ANN=mmul10_gff_fname.rstrip(\".gtf\")+\".mod.type.gtf\"\n",
    "\n",
    "    # Output folder and experiment name\n",
    "    OUTPUT=outdir+sample\n",
    "\n",
    "    REF=mmul10_gff_fname.rstrip(\".gtf\")+\".mod.type.STAR\"\n",
    "    WL=barcodes_fname\n",
    "    CBLEN=16\n",
    "    UMILEN=10\n",
    "    STRAND=\"Forward\"\n",
    "\n",
    "    star_cmd = [\"/ccb/salz4-4/avaraby/Kristen.ATAC_RNA/soft/STAR/Linux_x86_64_static/STAR\",\n",
    "           \"--runThreadN\",\"20\",\n",
    "           \"--genomeDir\",REF,\n",
    "           \"--readFilesIn\",cdna_fname,umi_fname,\n",
    "           \"--outFileNamePrefix\",OUTPUT+\"/\",\n",
    "           \"--outTmpDir\",OUTPUT+\".tmp/\",\n",
    "           \"--soloType\",\"CB_UMI_Simple\",\n",
    "           \"--soloCBwhitelist\",WL,\n",
    "           \"--soloCBstart\",\"1\",\n",
    "           \"--soloCBlen\",str(CBLEN),\n",
    "           \"--soloUMIstart\",str(CBLEN+1),\n",
    "           \"--soloUMIlen\",str(UMILEN),\n",
    "           \"--soloStrand\",STRAND,\n",
    "           \"--soloUMIdedup\",\"1MM_CR\",\n",
    "           \"--soloCBmatchWLtype\",\"1MM_multi_Nbase_pseudocounts\",\n",
    "           \"--soloUMIfiltering\",\"MultiGeneUMI_CR\",\n",
    "           \"--soloCellFilter\",\"EmptyDrops_CR\",\n",
    "           \"--outFilterScoreMin\",\"30\",\n",
    "           \"--clipAdapterType\",\"CellRanger4\",\n",
    "           \"--soloFeatures\",\"Gene\",\"GeneFull\",\n",
    "           \"--soloOutFileNames\",\"solo\",\"features.tsv\",\"barcodes.tsv\",\"matrix.mtx\",\n",
    "           \"--soloMultiMappers\",\"EM\"]\n",
    "    \n",
    "    subprocess.call(star_cmd)"
   ]
  },
  {
   "cell_type": "code",
   "execution_count": null,
   "id": "3979e8dc-53ec-4c52-b779-51e2727138b5",
   "metadata": {
    "scrolled": true
   },
   "outputs": [],
   "source": [
    "for processed_fname in glob.glob(seq_dir+\"RNA/globus/*/*processed.fastq\"):\n",
    "    filtered_fname = processed_fname.split(\"R2_processed.fastq\")[0]+\"R1_filtered.fastq\"\n",
    "    sample = processed_fname.rsplit(\"/\",2)[-2]\n",
    "    print(sample)\n",
    "    if not os.path.exists(filtered_fname):\n",
    "        continue\n",
    "    \n",
    "    if not os.path.exists(outdir+sample+\"/\"):\n",
    "        os.makedirs(outdir+sample+\"/\")\n",
    "        \n",
    "    OUTPUT=outdir+sample\n",
    "    \n",
    "    patterns = ['*.tsv', '*.mtx', '*.tsv', '*.mtx']\n",
    "    matching_files = []\n",
    "    for pattern in patterns:\n",
    "        matching_files.extend(glob.glob(os.path.join(OUTPUT+\"/*/*/\", pattern)))\n",
    "\n",
    "    for fname in matching_files:\n",
    "        cmd = \"gzip \"+fname\n",
    "        subprocess.call(cmd,shell=True)"
   ]
  },
  {
   "cell_type": "code",
   "execution_count": null,
   "id": "5372c1fe-2706-4331-b69d-06eda98a62f0",
   "metadata": {
    "scrolled": true,
    "tags": []
   },
   "outputs": [],
   "source": [
    "# copy files for transfer\n",
    "\n",
    "transfer_dir = \"/ccb/salz7-home/avaraby1/Kristen.RNA.STARsolo/\"\n",
    "\n",
    "for processed_fname in glob.glob(seq_dir+\"RNA/globus/*/*processed.fastq\"):\n",
    "    filtered_fname = processed_fname.split(\"R2_processed.fastq\")[0]+\"R1_filtered.fastq\"\n",
    "    sample = processed_fname.rsplit(\"/\",2)[-2]\n",
    "    print(sample)\n",
    "    if not os.path.exists(filtered_fname):\n",
    "        continue\n",
    "    \n",
    "    if not os.path.exists(transfer_dir+sample):\n",
    "        os.makedirs(transfer_dir+sample)\n",
    "        \n",
    "    shutil.copytree(outdir+sample+\"/soloGene\",transfer_dir+sample+\"/soloGene\")\n",
    "    shutil.copytree(outdir+sample+\"/soloGeneFull\",transfer_dir+sample+\"/soloGeneFull\")"
   ]
  },
  {
   "cell_type": "code",
   "execution_count": null,
   "id": "bf6c531c-e54b-45e3-9978-dbc6d6465c46",
   "metadata": {
    "tags": []
   },
   "outputs": [],
   "source": [
    "# map coordinates onto the barcodes\n",
    "\n",
    "transfer_dir = \"/ccb/salz7-home/avaraby1/Kristen.RNA.STARsolo/\"\n",
    "\n",
    "for processed_fname in glob.glob(seq_dir+\"RNA/globus/*/*processed.fastq\"):\n",
    "    filtered_fname = processed_fname.split(\"R2_processed.fastq\")[0]+\"R1_filtered.fastq\"\n",
    "    sample = processed_fname.rsplit(\"/\",2)[-2]\n",
    "    print(sample)\n",
    "    if not os.path.exists(filtered_fname):\n",
    "        continue\n",
    "    \n",
    "    cmd = [soft_dir+\"barcode2coord.py\",\n",
    "                   transfer_dir+sample+\"/soloGene/raw/barcodes.tsv.gz\",\n",
    "                   seq_dir+\"spatial_barcodes.txt\",\n",
    "                   transfer_dir+sample+\"/soloGene/raw/coordinates.tsv.gz\"]\n",
    "    subprocess.call(cmd)\n",
    "    \n",
    "    cmd = [soft_dir+\"barcode2coord.py\",\n",
    "                   transfer_dir+sample+\"/soloGeneFull/raw/barcodes.tsv.gz\",\n",
    "                   seq_dir+\"spatial_barcodes.txt\",\n",
    "                   transfer_dir+sample+\"/soloGeneFull/raw/coordinates.tsv.gz\"]\n",
    "    subprocess.call(cmd)\n",
    "    \n",
    "    cmd = [soft_dir+\"barcode2coord.py\",\n",
    "                   transfer_dir+sample+\"/soloGene/filtered/barcodes.tsv.gz\",\n",
    "                   seq_dir+\"spatial_barcodes.txt\",\n",
    "                   transfer_dir+sample+\"/soloGene/filtered/coordinates.tsv.gz\"]\n",
    "    subprocess.call(cmd)\n",
    "    \n",
    "    cmd = [soft_dir+\"barcode2coord.py\",\n",
    "                   transfer_dir+sample+\"/soloGeneFull/filtered/barcodes.tsv.gz\",\n",
    "                   seq_dir+\"spatial_barcodes.txt\",\n",
    "                   transfer_dir+sample+\"/soloGeneFull/filtered/coordinates.tsv.gz\"]\n",
    "    subprocess.call(cmd)"
   ]
  }
 ],
 "metadata": {
  "kernelspec": {
   "display_name": "Python 3 (ipykernel)",
   "language": "python",
   "name": "python3"
  },
  "language_info": {
   "codemirror_mode": {
    "name": "ipython",
    "version": 3
   },
   "file_extension": ".py",
   "mimetype": "text/x-python",
   "name": "python",
   "nbconvert_exporter": "python",
   "pygments_lexer": "ipython3",
   "version": "3.11.5"
  }
 },
 "nbformat": 4,
 "nbformat_minor": 5
}
